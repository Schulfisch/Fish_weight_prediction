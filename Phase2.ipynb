{
 "cells": [
  {
   "cell_type": "code",
   "execution_count": 1,
   "id": "dbc8ab0b-71c4-4bc2-becb-7201d5052161",
   "metadata": {},
   "outputs": [],
   "source": [
    "import mlflow\n",
    "import mlflow.sklearn\n",
    "from sklearn.linear_model import LinearRegression\n",
    "from sklearn.model_selection import train_test_split\n",
    "from sklearn.metrics import mean_squared_error, r2_score\n",
    "import pandas as pd\n",
    "import json\n",
    "import os"
   ]
  },
  {
   "cell_type": "code",
   "execution_count": 2,
   "id": "987ef808-e87d-4043-a22d-f11050628169",
   "metadata": {},
   "outputs": [],
   "source": [
    "# Load your dataset\n",
    "DATA_PATH = \"dataset.csv\"\n",
    "data = pd.read_csv(DATA_PATH)"
   ]
  },
  {
   "cell_type": "code",
   "execution_count": 3,
   "id": "72d7b4f0-39a3-499e-adcd-d7c333fb66d3",
   "metadata": {},
   "outputs": [
    {
     "name": "stdout",
     "output_type": "stream",
     "text": [
      "   Category Species  Weight   Height   Width  Length1  Length2  Length3\n",
      "0         1   Bream   242.0  11.5200  4.0200     23.2     25.4     30.0\n",
      "1         1   Bream   290.0  12.4800  4.3056     24.0     26.3     31.2\n",
      "2         1   Bream   340.0  12.3778  4.6961     23.9     26.5     31.1\n",
      "3         1   Bream   363.0  12.7300  4.4555     26.3     29.0     33.5\n",
      "4         1   Bream   430.0  12.4440  5.1340     26.5     29.0     34.0\n",
      "<class 'pandas.core.frame.DataFrame'>\n",
      "RangeIndex: 159 entries, 0 to 158\n",
      "Data columns (total 8 columns):\n",
      " #   Column    Non-Null Count  Dtype  \n",
      "---  ------    --------------  -----  \n",
      " 0   Category  159 non-null    int64  \n",
      " 1   Species   159 non-null    object \n",
      " 2   Weight    159 non-null    float64\n",
      " 3   Height    159 non-null    float64\n",
      " 4   Width     159 non-null    float64\n",
      " 5   Length1   159 non-null    float64\n",
      " 6   Length2   159 non-null    float64\n",
      " 7   Length3   159 non-null    float64\n",
      "dtypes: float64(6), int64(1), object(1)\n",
      "memory usage: 10.1+ KB\n",
      "None\n",
      "         Category       Weight      Height       Width     Length1  \\\n",
      "count  159.000000   159.000000  159.000000  159.000000  159.000000   \n",
      "mean     3.264151   398.326415    8.970994    4.417486   26.247170   \n",
      "std      1.704249   357.978317    4.286208    1.685804    9.996441   \n",
      "min      1.000000     0.000000    1.728400    1.047600    7.500000   \n",
      "25%      2.000000   120.000000    5.944800    3.385650   19.050000   \n",
      "50%      3.000000   273.000000    7.786000    4.248500   25.200000   \n",
      "75%      4.500000   650.000000   12.365900    5.584500   32.700000   \n",
      "max      7.000000  1650.000000   18.957000    8.142000   59.000000   \n",
      "\n",
      "          Length2     Length3  \n",
      "count  159.000000  159.000000  \n",
      "mean    28.415723   31.227044  \n",
      "std     10.716328   11.610246  \n",
      "min      8.400000    8.800000  \n",
      "25%     21.000000   23.150000  \n",
      "50%     27.300000   29.400000  \n",
      "75%     35.500000   39.650000  \n",
      "max     63.400000   68.000000  \n"
     ]
    }
   ],
   "source": [
    "# Inspect the dataset\n",
    "print(data.head())\n",
    "print(data.info())\n",
    "print(data.describe())"
   ]
  },
  {
   "cell_type": "code",
   "execution_count": 4,
   "id": "e2b9bc6b-b14d-40f9-853f-ef92684b6a91",
   "metadata": {},
   "outputs": [
    {
     "name": "stdout",
     "output_type": "stream",
     "text": [
      "\n",
      "Missing values:\n",
      " Category    0\n",
      "Species     0\n",
      "Weight      0\n",
      "Height      0\n",
      "Width       0\n",
      "Length1     0\n",
      "Length2     0\n",
      "Length3     0\n",
      "dtype: int64\n"
     ]
    }
   ],
   "source": [
    "# Check for missing values\n",
    "print(\"\\nMissing values:\\n\", data.isnull().sum())"
   ]
  },
  {
   "cell_type": "code",
   "execution_count": 5,
   "id": "89090d99-dcc9-4844-952b-67b1595b6d17",
   "metadata": {},
   "outputs": [],
   "source": [
    "# Define target and features\n",
    "TARGET = \"Weight\"\n",
    "data = data.drop(columns=['Species'])\n",
    "FEATURES = [col for col in data.columns if col != TARGET]\n",
    "\n",
    "X = data[FEATURES]\n",
    "y = data[TARGET]"
   ]
  },
  {
   "cell_type": "code",
   "execution_count": 6,
   "id": "82c0cc65-e93a-455e-aa2c-e2a9c104f1d2",
   "metadata": {},
   "outputs": [],
   "source": [
    "# Split data\n",
    "X_train, X_test, y_train, y_test = train_test_split(X, y, test_size=0.2, random_state=42)"
   ]
  },
  {
   "cell_type": "code",
   "execution_count": 7,
   "id": "82aa1b7f-2f32-42b6-99d5-27728104bd63",
   "metadata": {},
   "outputs": [
    {
     "name": "stderr",
     "output_type": "stream",
     "text": [
      "2025/03/12 08:26:45 WARNING mlflow.models.model: Model logged without a signature and input example. Please set `input_example` parameter when logging the model to auto infer the model signature.\n"
     ]
    }
   ],
   "source": [
    "# Start an MLflow experiment\n",
    "mlflow.set_experiment(\"fish_weight_prediction\")\n",
    "\n",
    "with mlflow.start_run():\n",
    "    # Model training\n",
    "    model = LinearRegression()\n",
    "    model.fit(X_train, y_train)\n",
    "\n",
    "    # Predictions\n",
    "    y_pred = model.predict(X_test)\n",
    "\n",
    "    # Metrics\n",
    "    rmse = mean_squared_error(y_test, y_pred, squared=False)\n",
    "    r2 = r2_score(y_test, y_pred)\n",
    "    \n",
    "    # Log parameters, metrics, and model\n",
    "    mlflow.log_param(\"fit_intercept\", model.fit_intercept)\n",
    "    mlflow.log_metric(\"rmse\", rmse)\n",
    "    mlflow.log_metric(\"r2\", r2)\n",
    "    mlflow.sklearn.log_model(model, \"linear_regression_model\")\n",
    "\n",
    "    # Log model parameters as an artifact\n",
    "    model_params = {\n",
    "        \"coefficients\": model.coef_.tolist(),\n",
    "        \"intercept\": model.intercept_\n",
    "    }\n",
    "\n",
    "    MODEL_PATH = \"../model/model.json\"\n",
    "    os.makedirs(os.path.dirname(MODEL_PATH), exist_ok=True)\n",
    "\n",
    "    with open(MODEL_PATH, \"w\") as f:\n",
    "        json.dump(model_params, f, indent=4)\n",
    "\n",
    "    mlflow.log_artifact(MODEL_PATH)\n",
    "\n",
    "    # Tags\n",
    "    mlflow.set_tag(\"algorithm\", \"Linear Regression\")\n",
    "    mlflow.set_tag(\"dataset_version\", \"1.0\")"
   ]
  },
  {
   "cell_type": "code",
   "execution_count": 8,
   "id": "02bc3dc5-2fa1-4558-80d3-29a84bac3bf5",
   "metadata": {},
   "outputs": [],
   "source": [
    "# Tags\n",
    "mlflow.set_tag(\"algorithm\", \"Linear Regression\")\n",
    "mlflow.set_tag(\"dataset_version\", \"1.0\")"
   ]
  },
  {
   "cell_type": "code",
   "execution_count": 9,
   "id": "68478219-4762-433b-815f-4bfad671eb61",
   "metadata": {},
   "outputs": [
    {
     "name": "stdout",
     "output_type": "stream",
     "text": [
      "Model logged with RMSE: 117.16576527726222 and R2: 0.9034878699241474\n"
     ]
    }
   ],
   "source": [
    "print(f\"Model logged with RMSE: {rmse} and R2: {r2}\")"
   ]
  }
 ],
 "metadata": {
  "kernelspec": {
   "display_name": "Python 3 (ipykernel)",
   "language": "python",
   "name": "python3"
  },
  "language_info": {
   "codemirror_mode": {
    "name": "ipython",
    "version": 3
   },
   "file_extension": ".py",
   "mimetype": "text/x-python",
   "name": "python",
   "nbconvert_exporter": "python",
   "pygments_lexer": "ipython3",
   "version": "3.11.7"
  }
 },
 "nbformat": 4,
 "nbformat_minor": 5
}
