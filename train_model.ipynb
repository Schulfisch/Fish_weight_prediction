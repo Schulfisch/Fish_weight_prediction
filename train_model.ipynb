{
 "cells": [
  {
   "cell_type": "code",
   "execution_count": 1,
   "id": "aa11f973-feef-45c8-92f6-5f2cb7d16fb4",
   "metadata": {},
   "outputs": [],
   "source": [
    "import pandas as pd\n",
    "from sklearn.preprocessing import LabelEncoder\n",
    "from sklearn.model_selection import train_test_split\n",
    "from sklearn.linear_model import LinearRegression\n",
    "from sklearn.metrics import mean_squared_error, r2_score\n",
    "import json\n",
    "import os\n",
    "import joblib"
   ]
  },
  {
   "cell_type": "code",
   "execution_count": 2,
   "id": "f1add00b-3a8e-4cfa-a408-d3d1272914bd",
   "metadata": {},
   "outputs": [],
   "source": [
    "# 1. Daten einlesen und vorbereiten\n",
    "DATA_PATH = \"dataset.csv\"  # Passe den Pfad an, falls nötig\n",
    "df = pd.read_csv(DATA_PATH)"
   ]
  },
  {
   "cell_type": "code",
   "execution_count": 3,
   "id": "6051243b-887a-4c4c-9e57-a96e033d8463",
   "metadata": {},
   "outputs": [
    {
     "name": "stdout",
     "output_type": "stream",
     "text": [
      "   Category Species  Weight   Height   Width  Length1  Length2  Length3\n",
      "0         1   Bream   242.0  11.5200  4.0200     23.2     25.4     30.0\n",
      "1         1   Bream   290.0  12.4800  4.3056     24.0     26.3     31.2\n",
      "2         1   Bream   340.0  12.3778  4.6961     23.9     26.5     31.1\n",
      "3         1   Bream   363.0  12.7300  4.4555     26.3     29.0     33.5\n",
      "4         1   Bream   430.0  12.4440  5.1340     26.5     29.0     34.0\n"
     ]
    }
   ],
   "source": [
    "# Einen ersten Blick auf die Daten werfen\n",
    "print(df.head())"
   ]
  },
  {
   "cell_type": "code",
   "execution_count": 4,
   "id": "1d510fa5-ec44-4813-9040-67ff43fb55a4",
   "metadata": {},
   "outputs": [
    {
     "name": "stdout",
     "output_type": "stream",
     "text": [
      "<class 'pandas.core.frame.DataFrame'>\n",
      "RangeIndex: 159 entries, 0 to 158\n",
      "Data columns (total 8 columns):\n",
      " #   Column    Non-Null Count  Dtype  \n",
      "---  ------    --------------  -----  \n",
      " 0   Category  159 non-null    int64  \n",
      " 1   Species   159 non-null    object \n",
      " 2   Weight    159 non-null    float64\n",
      " 3   Height    159 non-null    float64\n",
      " 4   Width     159 non-null    float64\n",
      " 5   Length1   159 non-null    float64\n",
      " 6   Length2   159 non-null    float64\n",
      " 7   Length3   159 non-null    float64\n",
      "dtypes: float64(6), int64(1), object(1)\n",
      "memory usage: 10.1+ KB\n",
      "None\n"
     ]
    }
   ],
   "source": [
    "print(df.info())"
   ]
  },
  {
   "cell_type": "code",
   "execution_count": 5,
   "id": "eb36994f-6aaf-43f6-8f4a-f283969c38e8",
   "metadata": {},
   "outputs": [
    {
     "name": "stdout",
     "output_type": "stream",
     "text": [
      "         Category       Weight      Height       Width     Length1  \\\n",
      "count  159.000000   159.000000  159.000000  159.000000  159.000000   \n",
      "mean     3.264151   398.326415    8.970994    4.417486   26.247170   \n",
      "std      1.704249   357.978317    4.286208    1.685804    9.996441   \n",
      "min      1.000000     0.000000    1.728400    1.047600    7.500000   \n",
      "25%      2.000000   120.000000    5.944800    3.385650   19.050000   \n",
      "50%      3.000000   273.000000    7.786000    4.248500   25.200000   \n",
      "75%      4.500000   650.000000   12.365900    5.584500   32.700000   \n",
      "max      7.000000  1650.000000   18.957000    8.142000   59.000000   \n",
      "\n",
      "          Length2     Length3  \n",
      "count  159.000000  159.000000  \n",
      "mean    28.415723   31.227044  \n",
      "std     10.716328   11.610246  \n",
      "min      8.400000    8.800000  \n",
      "25%     21.000000   23.150000  \n",
      "50%     27.300000   29.400000  \n",
      "75%     35.500000   39.650000  \n",
      "max     63.400000   68.000000  \n"
     ]
    }
   ],
   "source": [
    "print(df.describe())"
   ]
  },
  {
   "cell_type": "code",
   "execution_count": 6,
   "id": "bebc64ea-aee1-4cb2-b17a-d9d0382e31d4",
   "metadata": {},
   "outputs": [
    {
     "name": "stdout",
     "output_type": "stream",
     "text": [
      "\n",
      "Missing values:\n",
      " Category    0\n",
      "Species     0\n",
      "Weight      0\n",
      "Height      0\n",
      "Width       0\n",
      "Length1     0\n",
      "Length2     0\n",
      "Length3     0\n",
      "dtype: int64\n"
     ]
    }
   ],
   "source": [
    "# Prüfen auf fehlende Werte\n",
    "print(\"\\nMissing values:\\n\", df.isnull().sum())"
   ]
  },
  {
   "cell_type": "code",
   "execution_count": 7,
   "id": "d087dd3f-ff26-4655-9587-e800de4ab6c2",
   "metadata": {},
   "outputs": [],
   "source": [
    "# 2. Features und Zielvariable definieren\n",
    "# Beispiel: Angenommen 'Weight' ist die Zielvariable und die restlichen numerischen Spalten sind Features\n",
    "TARGET = \"Weight\"\n",
    "\n",
    "df = df.drop(columns=['Species'])\n",
    "\n",
    "FEATURES = [col for col in df.columns if col != TARGET]\n",
    "\n",
    "X = df[FEATURES]\n",
    "y = df[TARGET]"
   ]
  },
  {
   "cell_type": "code",
   "execution_count": 8,
   "id": "cd020cf9-0e4b-422d-aaf6-468fb4ff22d1",
   "metadata": {},
   "outputs": [],
   "source": [
    "# 3. Datenaufteilung in Trainings- und Testdaten\n",
    "X_train, X_test, y_train, y_test = train_test_split(X, y, test_size=0.2, random_state=42)"
   ]
  },
  {
   "cell_type": "code",
   "execution_count": 9,
   "id": "ffa4e243-4b6e-478c-8f62-1332a69467eb",
   "metadata": {},
   "outputs": [
    {
     "data": {
      "text/html": [
       "<style>#sk-container-id-1 {color: black;background-color: white;}#sk-container-id-1 pre{padding: 0;}#sk-container-id-1 div.sk-toggleable {background-color: white;}#sk-container-id-1 label.sk-toggleable__label {cursor: pointer;display: block;width: 100%;margin-bottom: 0;padding: 0.3em;box-sizing: border-box;text-align: center;}#sk-container-id-1 label.sk-toggleable__label-arrow:before {content: \"▸\";float: left;margin-right: 0.25em;color: #696969;}#sk-container-id-1 label.sk-toggleable__label-arrow:hover:before {color: black;}#sk-container-id-1 div.sk-estimator:hover label.sk-toggleable__label-arrow:before {color: black;}#sk-container-id-1 div.sk-toggleable__content {max-height: 0;max-width: 0;overflow: hidden;text-align: left;background-color: #f0f8ff;}#sk-container-id-1 div.sk-toggleable__content pre {margin: 0.2em;color: black;border-radius: 0.25em;background-color: #f0f8ff;}#sk-container-id-1 input.sk-toggleable__control:checked~div.sk-toggleable__content {max-height: 200px;max-width: 100%;overflow: auto;}#sk-container-id-1 input.sk-toggleable__control:checked~label.sk-toggleable__label-arrow:before {content: \"▾\";}#sk-container-id-1 div.sk-estimator input.sk-toggleable__control:checked~label.sk-toggleable__label {background-color: #d4ebff;}#sk-container-id-1 div.sk-label input.sk-toggleable__control:checked~label.sk-toggleable__label {background-color: #d4ebff;}#sk-container-id-1 input.sk-hidden--visually {border: 0;clip: rect(1px 1px 1px 1px);clip: rect(1px, 1px, 1px, 1px);height: 1px;margin: -1px;overflow: hidden;padding: 0;position: absolute;width: 1px;}#sk-container-id-1 div.sk-estimator {font-family: monospace;background-color: #f0f8ff;border: 1px dotted black;border-radius: 0.25em;box-sizing: border-box;margin-bottom: 0.5em;}#sk-container-id-1 div.sk-estimator:hover {background-color: #d4ebff;}#sk-container-id-1 div.sk-parallel-item::after {content: \"\";width: 100%;border-bottom: 1px solid gray;flex-grow: 1;}#sk-container-id-1 div.sk-label:hover label.sk-toggleable__label {background-color: #d4ebff;}#sk-container-id-1 div.sk-serial::before {content: \"\";position: absolute;border-left: 1px solid gray;box-sizing: border-box;top: 0;bottom: 0;left: 50%;z-index: 0;}#sk-container-id-1 div.sk-serial {display: flex;flex-direction: column;align-items: center;background-color: white;padding-right: 0.2em;padding-left: 0.2em;position: relative;}#sk-container-id-1 div.sk-item {position: relative;z-index: 1;}#sk-container-id-1 div.sk-parallel {display: flex;align-items: stretch;justify-content: center;background-color: white;position: relative;}#sk-container-id-1 div.sk-item::before, #sk-container-id-1 div.sk-parallel-item::before {content: \"\";position: absolute;border-left: 1px solid gray;box-sizing: border-box;top: 0;bottom: 0;left: 50%;z-index: -1;}#sk-container-id-1 div.sk-parallel-item {display: flex;flex-direction: column;z-index: 1;position: relative;background-color: white;}#sk-container-id-1 div.sk-parallel-item:first-child::after {align-self: flex-end;width: 50%;}#sk-container-id-1 div.sk-parallel-item:last-child::after {align-self: flex-start;width: 50%;}#sk-container-id-1 div.sk-parallel-item:only-child::after {width: 0;}#sk-container-id-1 div.sk-dashed-wrapped {border: 1px dashed gray;margin: 0 0.4em 0.5em 0.4em;box-sizing: border-box;padding-bottom: 0.4em;background-color: white;}#sk-container-id-1 div.sk-label label {font-family: monospace;font-weight: bold;display: inline-block;line-height: 1.2em;}#sk-container-id-1 div.sk-label-container {text-align: center;}#sk-container-id-1 div.sk-container {/* jupyter's `normalize.less` sets `[hidden] { display: none; }` but bootstrap.min.css set `[hidden] { display: none !important; }` so we also need the `!important` here to be able to override the default hidden behavior on the sphinx rendered scikit-learn.org. See: https://github.com/scikit-learn/scikit-learn/issues/21755 */display: inline-block !important;position: relative;}#sk-container-id-1 div.sk-text-repr-fallback {display: none;}</style><div id=\"sk-container-id-1\" class=\"sk-top-container\"><div class=\"sk-text-repr-fallback\"><pre>LinearRegression()</pre><b>In a Jupyter environment, please rerun this cell to show the HTML representation or trust the notebook. <br />On GitHub, the HTML representation is unable to render, please try loading this page with nbviewer.org.</b></div><div class=\"sk-container\" hidden><div class=\"sk-item\"><div class=\"sk-estimator sk-toggleable\"><input class=\"sk-toggleable__control sk-hidden--visually\" id=\"sk-estimator-id-1\" type=\"checkbox\" checked><label for=\"sk-estimator-id-1\" class=\"sk-toggleable__label sk-toggleable__label-arrow\">LinearRegression</label><div class=\"sk-toggleable__content\"><pre>LinearRegression()</pre></div></div></div></div></div>"
      ],
      "text/plain": [
       "LinearRegression()"
      ]
     },
     "execution_count": 9,
     "metadata": {},
     "output_type": "execute_result"
    }
   ],
   "source": [
    "# 4. Modelltraining\n",
    "model = LinearRegression()\n",
    "model.fit(X_train, y_train)"
   ]
  },
  {
   "cell_type": "code",
   "execution_count": 10,
   "id": "5d346112-3dd5-458d-a684-49dfa52951cd",
   "metadata": {},
   "outputs": [
    {
     "name": "stdout",
     "output_type": "stream",
     "text": [
      "\n",
      "Model performance:\n",
      "RMSE: 117.17\n",
      "R²: 0.90\n"
     ]
    }
   ],
   "source": [
    "# 5. Modellbewertung\n",
    "y_pred = model.predict(X_test)\n",
    "rmse = mean_squared_error(y_test, y_pred, squared=False)\n",
    "r2 = r2_score(y_test, y_pred)\n",
    "\n",
    "print(f\"\\nModel performance:\\nRMSE: {rmse:.2f}\\nR²: {r2:.2f}\")"
   ]
  },
  {
   "cell_type": "code",
   "execution_count": 20,
   "id": "8ac3b2e3-e39d-46fc-96f0-92f68fa91dd2",
   "metadata": {},
   "outputs": [
    {
     "name": "stdout",
     "output_type": "stream",
     "text": [
      "\n",
      "Model saved to: C:\\Users\\alexa\\Desktop\\fish_pred\\model.json\n"
     ]
    }
   ],
   "source": [
    "# Modellparameter speichern\n",
    "model_params = {\n",
    "    \"coefficients\": model.coef_.tolist(),\n",
    "    \"intercept\": model.intercept_\n",
    "}\n",
    "\n",
    "# Pfad zum aktuellen Verzeichnis, wo das Notebook liegt\n",
    "MODEL_PATH = os.path.join(os.getcwd(), \"model.json\")\n",
    "\n",
    "# JSON-Datei speichern\n",
    "with open(MODEL_PATH, \"w\") as f:\n",
    "    json.dump(model_params, f, indent=4)\n",
    "\n",
    "print(f\"\\nModel saved to: {MODEL_PATH}\")"
   ]
  },
  {
   "cell_type": "code",
   "execution_count": null,
   "id": "8f728ed9-00c8-4913-8eee-2fb2366adbb3",
   "metadata": {},
   "outputs": [],
   "source": []
  }
 ],
 "metadata": {
  "kernelspec": {
   "display_name": "Python 3 (ipykernel)",
   "language": "python",
   "name": "python3"
  },
  "language_info": {
   "codemirror_mode": {
    "name": "ipython",
    "version": 3
   },
   "file_extension": ".py",
   "mimetype": "text/x-python",
   "name": "python",
   "nbconvert_exporter": "python",
   "pygments_lexer": "ipython3",
   "version": "3.11.7"
  }
 },
 "nbformat": 4,
 "nbformat_minor": 5
}
